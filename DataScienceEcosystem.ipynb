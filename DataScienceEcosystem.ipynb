{
 "cells": [
  {
   "cell_type": "markdown",
   "id": "a0ccd6dd-d755-440f-9841-159a38954251",
   "metadata": {
    "jp-MarkdownHeadingCollapsed": true,
    "tags": []
   },
   "source": [
    "## Author\n",
    "Daniel Saed Ibarra Maldonado|"
   ]
  },
  {
   "cell_type": "markdown",
   "id": "fbdf154e-611a-4f83-b565-ef4d6ab0d650",
   "metadata": {},
   "source": [
    "# Data Science Tools and Ecosystem"
   ]
  },
  {
   "cell_type": "markdown",
   "id": "14879fd5-1202-40a0-b355-35c2f2d93d86",
   "metadata": {},
   "source": [
    "In this notebook, Data Science Tools and Ecosystem are summarized."
   ]
  },
  {
   "cell_type": "markdown",
   "id": "2690fce3-9db6-4cf7-824f-6afeef2ccd32",
   "metadata": {
    "tags": []
   },
   "source": [
    "**Objetives:**\n",
    "- Learn how to create markdowns\n",
    "- List popular languages for Data Science\n",
    "- List of commonly used libraries used by Data Scientists"
   ]
  },
  {
   "cell_type": "markdown",
   "id": "943baf40-07f5-4415-a18b-28e7b438686a",
   "metadata": {},
   "source": [
    "Some of the popular languages that Data Scientists use are:\n",
    "1. Python\n",
    "2. R\n",
    "3. C++\n",
    "4. Java"
   ]
  },
  {
   "cell_type": "markdown",
   "id": "5c9db4e5-49c8-45d3-b4c6-31d47bf00faf",
   "metadata": {},
   "source": [
    "Some of the commonly used libraries used by Data Scientists include:\n",
    "\n",
    "1. Matplotlib\n",
    "2. Tensowflow\n",
    "3. Scikit-learn\n",
    "4. Pytorch\n",
    "5. Pandas\n",
    "6. Numpy"
   ]
  },
  {
   "cell_type": "markdown",
   "id": "2d0cecd8-0776-4560-b4e0-2ccffb9e423d",
   "metadata": {},
   "source": [
    "\n",
    "| Data Science Tools |  \n",
    "| --- | \n",
    "| Spark | \n",
    "| Hadoop | \n",
    "| Tensorflow | \n",
    "| Jupyter Notebooks | "
   ]
  },
  {
   "cell_type": "markdown",
   "id": "a5c76253-0c29-4f3c-a355-968d88057bc8",
   "metadata": {
    "tags": []
   },
   "source": [
    "### Below are a few examples of evaluating arithmetic expressions in Python"
   ]
  },
  {
   "cell_type": "code",
   "execution_count": 2,
   "id": "37bc1ecb-8910-45fc-b1f4-38b794ef3b50",
   "metadata": {
    "tags": []
   },
   "outputs": [
    {
     "data": {
      "text/plain": [
       "2"
      ]
     },
     "execution_count": 2,
     "metadata": {},
     "output_type": "execute_result"
    }
   ],
   "source": [
    "1 + 1"
   ]
  },
  {
   "cell_type": "code",
   "execution_count": 3,
   "id": "ae4a216c-b490-47ce-b2ca-9c5b736872cf",
   "metadata": {
    "tags": []
   },
   "outputs": [
    {
     "data": {
      "text/plain": [
       "17"
      ]
     },
     "execution_count": 3,
     "metadata": {},
     "output_type": "execute_result"
    }
   ],
   "source": [
    "#This a simple arithmetic expression to mutiply then add integers\n",
    "\n",
    "(3*4)+5"
   ]
  },
  {
   "cell_type": "code",
   "execution_count": 6,
   "id": "aae96614-4c8d-4d09-b47d-309d5081b21d",
   "metadata": {
    "tags": []
   },
   "outputs": [
    {
     "data": {
      "text/plain": [
       "3.3333333333333335"
      ]
     },
     "execution_count": 6,
     "metadata": {},
     "output_type": "execute_result"
    }
   ],
   "source": [
    "#This will convert 200 minutes to hours by diving by 60\n",
    "\n",
    "200 / 60"
   ]
  }
 ],
 "metadata": {
  "kernelspec": {
   "display_name": "Python",
   "language": "python",
   "name": "conda-env-python-py"
  },
  "language_info": {
   "codemirror_mode": {
    "name": "ipython",
    "version": 3
   },
   "file_extension": ".py",
   "mimetype": "text/x-python",
   "name": "python",
   "nbconvert_exporter": "python",
   "pygments_lexer": "ipython3",
   "version": "3.7.12"
  }
 },
 "nbformat": 4,
 "nbformat_minor": 5
}
